{
 "cells": [
  {
   "cell_type": "code",
   "execution_count": null,
   "metadata": {},
   "outputs": [],
   "source": [
    "\n",
    "\n",
    "# Grouping together based on column types \n",
    "# type(df.column)\n",
    "def column_sizes(input):\n",
    "    return input.split('(')[1].split(')')[0]\n",
    "print(column_sizes('SC K/5 (UB 406x140x39)'))\n",
    "\n",
    "df.column = df.column.apply(column_sizes)\n",
    "\n",
    "def min_length(input):\n",
    "    return input[3:].split('x')[0]\n",
    "# print(column_sizes('SC K/5 (UB 406x140x39)'))\n",
    "\n",
    "df['min_length']=df['column'].apply(min_length)\n",
    "\n",
    "\n",
    "def min_width(input):\n",
    "    return input[3:].split('x')[1]\n",
    "# print(column_sizes('SC K/5 (UB 406x140x39)'))\n",
    "\n",
    "df['min_width']=df['column'].apply(min_width)\n",
    "\n",
    "\n",
    "df.head()\n",
    "\n",
    "# df.column.\n",
    "x=df.column.unique()\n",
    "\n",
    "print(f\"There are {len(x)} different supports.\\n{x}\")\n",
    "df.head()"
   ]
  }
 ],
 "metadata": {
  "language_info": {
   "name": "python"
  },
  "orig_nbformat": 4
 },
 "nbformat": 4,
 "nbformat_minor": 2
}
